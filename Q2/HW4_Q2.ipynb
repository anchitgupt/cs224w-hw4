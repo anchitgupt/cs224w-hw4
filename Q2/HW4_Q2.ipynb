{
 "metadata": {
  "name": ""
 },
 "nbformat": 3,
 "nbformat_minor": 0,
 "worksheets": [
  {
   "cells": [
    {
     "cell_type": "heading",
     "level": 1,
     "metadata": {},
     "source": [
      "Homework 4, Question 2"
     ]
    },
    {
     "cell_type": "code",
     "collapsed": false,
     "input": [
      "import networkx as nx\n",
      "from collections import defaultdict,deque\n",
      "from random import choice,shuffle\n",
      "from ggplot import *"
     ],
     "language": "python",
     "metadata": {},
     "outputs": [],
     "prompt_number": 1
    },
    {
     "cell_type": "markdown",
     "metadata": {},
     "source": [
      "Create a small test graph based on lecture slides."
     ]
    },
    {
     "cell_type": "code",
     "collapsed": false,
     "input": [
      "tg = nx.Graph()\n",
      "tg.add_edges_from([(0,1),(0,2),(0,3),(0,4),(1,2),(1,5),(2,5),(3,6),(3,7),(4,7),(6,8),(5,8),(6,9),(7,9),(8,10),(9,10)])"
     ],
     "language": "python",
     "metadata": {},
     "outputs": [],
     "prompt_number": 2
    },
    {
     "cell_type": "markdown",
     "metadata": {},
     "source": [
      "Perform a BFS from a vertex s"
     ]
    },
    {
     "cell_type": "code",
     "collapsed": false,
     "input": [
      "def BFS(g,v):\n",
      "    # Book-keeping stuff\n",
      "    distance = {}\n",
      "    sigma = defaultdict(float)\n",
      "    parents = defaultdict(set)\n",
      "    queue = deque([v])\n",
      "    done = set()\n",
      "    \n",
      "    distance[v] = 0\n",
      "    sigma[v] = 1.0\n",
      "    \n",
      "    induced = nx.DiGraph()\n",
      "    \n",
      "    while len(queue) > 0:\n",
      "        n = queue.popleft()\n",
      "        done.add(n)\n",
      "        # Add neighbors of n that are not done to the queue\n",
      "        for nbr in g.neighbors_iter(n):\n",
      "            if nbr not in done:\n",
      "                if nbr in distance and distance[nbr] <= distance[n]: \n",
      "                    pass\n",
      "                else: \n",
      "                    distance[nbr] = distance[n]+1\n",
      "                    if n not in parents[nbr]:\n",
      "                        parents[nbr].add(n)\n",
      "                        sigma[nbr] += sigma[n]\n",
      "                        induced.add_edge(n,nbr)\n",
      "                    queue.append(nbr)\n",
      "    return sigma,induced"
     ],
     "language": "python",
     "metadata": {},
     "outputs": [],
     "prompt_number": 3
    },
    {
     "cell_type": "markdown",
     "metadata": {},
     "source": [
      "Now that we have the induced tree, calculate dependency ($\\delta_s$) of an edge $\\{v,w\\}$ recursively."
     ]
    },
    {
     "cell_type": "code",
     "collapsed": false,
     "input": [
      "def dependency(v,w,induced,sigma):\n",
      "    if induced.has_edge(v,w):\n",
      "        d = sigma[v]/sigma[w]\n",
      "        if len(induced.neighbors(w)) > 0:\n",
      "            return d*(1+sum([dependency(w,c,induced,sigma) for c in induced.neighbors(w)]))\n",
      "        else:\n",
      "            return d \n",
      "    else:\n",
      "        return 0.0"
     ],
     "language": "python",
     "metadata": {},
     "outputs": [],
     "prompt_number": 4
    },
    {
     "cell_type": "code",
     "collapsed": false,
     "input": [
      "def dependencies(graph):\n",
      "    dependencies = defaultdict(list)\n",
      "    for src in graph.nodes_iter():\n",
      "        sigma,induced = BFS(graph,src)\n",
      "        for v,w in graph.edges_iter():\n",
      "            dependencies[src].append((v,w,dependency(v,w,induced,sigma)))\n",
      "    return dependencies"
     ],
     "language": "python",
     "metadata": {},
     "outputs": [],
     "prompt_number": 5
    },
    {
     "cell_type": "heading",
     "level": 2,
     "metadata": {},
     "source": [
      "Algorithm 1: Exact Betweenness"
     ]
    },
    {
     "cell_type": "code",
     "collapsed": false,
     "input": [
      "def exact_betweenness(graph):\n",
      "    betweenness = defaultdict(float) \n",
      "    depends = dependencies(graph)\n",
      "    for src in depends:\n",
      "        for deps in depends[src]:\n",
      "            v,w,d = deps\n",
      "            betweenness[(v,w)] += d\n",
      "    return dict(betweenness)"
     ],
     "language": "python",
     "metadata": {},
     "outputs": [],
     "prompt_number": 6
    },
    {
     "cell_type": "heading",
     "level": 4,
     "metadata": {},
     "source": [
      "For verification, compare between above code and networkx"
     ]
    },
    {
     "cell_type": "code",
     "collapsed": false,
     "input": [
      "exact_betweenness(tg)"
     ],
     "language": "python",
     "metadata": {},
     "outputs": [
      {
       "metadata": {},
       "output_type": "pyout",
       "prompt_number": 7,
       "text": [
        "{(0, 1): 7.3857142857142852,\n",
        " (0, 2): 7.3857142857142852,\n",
        " (0, 3): 10.752380952380953,\n",
        " (0, 4): 8.019047619047619,\n",
        " (1, 2): 1.0,\n",
        " (1, 5): 6.1857142857142859,\n",
        " (2, 5): 6.1857142857142859,\n",
        " (3, 6): 8.8761904761904766,\n",
        " (3, 7): 6.4952380952380944,\n",
        " (4, 7): 7.352380952380952,\n",
        " (5, 8): 11.895238095238096,\n",
        " (6, 8): 8.519047619047619,\n",
        " (6, 9): 6.1095238095238091,\n",
        " (7, 9): 8.7523809523809533,\n",
        " (8, 10): 7.3761904761904766,\n",
        " (9, 10): 6.7095238095238088}"
       ]
      }
     ],
     "prompt_number": 7
    },
    {
     "cell_type": "code",
     "collapsed": false,
     "input": [
      "nx.edge_betweenness_centrality(tg,normalized=False,weight=1)"
     ],
     "language": "python",
     "metadata": {},
     "outputs": [
      {
       "metadata": {},
       "output_type": "pyout",
       "prompt_number": 8,
       "text": [
        "{(0, 1): 7.385714285714284,\n",
        " (0, 2): 7.385714285714284,\n",
        " (0, 3): 10.752380952380953,\n",
        " (0, 4): 8.01904761904762,\n",
        " (1, 2): 1.0,\n",
        " (1, 5): 6.185714285714286,\n",
        " (2, 5): 6.185714285714286,\n",
        " (3, 6): 8.876190476190477,\n",
        " (3, 7): 6.495238095238095,\n",
        " (4, 7): 7.352380952380952,\n",
        " (5, 8): 11.895238095238096,\n",
        " (6, 8): 8.519047619047619,\n",
        " (6, 9): 6.109523809523809,\n",
        " (7, 9): 8.752380952380951,\n",
        " (8, 10): 7.376190476190477,\n",
        " (9, 10): 6.7095238095238106}"
       ]
      }
     ],
     "prompt_number": 8
    },
    {
     "cell_type": "heading",
     "level": 2,
     "metadata": {},
     "source": [
      "Algorithm 2: Approximate Betweennes"
     ]
    },
    {
     "cell_type": "code",
     "collapsed": false,
     "input": [
      "def approx_betweenness(graph,c=5,s=10):\n",
      "    nodes = graph.nodes()\n",
      "    shuffle(nodes)\n",
      "    N = float(len(nodes))\n",
      "    max_D = c*N\n",
      "    max_samples = int(N/s)\n",
      "        \n",
      "    betweenness = defaultdict(float)\n",
      "    k = defaultdict(int)\n",
      "    \n",
      "    n_samples = 0\n",
      "    for src in nodes[:max_samples]:\n",
      "        sigma,induced = BFS(graph,src)\n",
      "        change = False\n",
      "        for v,w in graph.edges_iter():\n",
      "            if betweenness[(v,w)] <= max_D:\n",
      "                betweenness[(v,w)] += dependency(v,w,induced,sigma)\n",
      "                k[(v,w)] += 1 \n",
      "                change = True\n",
      "        if not change:break\n",
      "    \n",
      "    return {edge:((N/k[edge])*betweenness[edge]) for edge in graph.edges_iter()}"
     ],
     "language": "python",
     "metadata": {},
     "outputs": [],
     "prompt_number": 9
    },
    {
     "cell_type": "heading",
     "level": 2,
     "metadata": {},
     "source": [
      "Run on preferential attachment graph"
     ]
    },
    {
     "cell_type": "code",
     "collapsed": false,
     "input": [
      "g = nx.barabasi_albert_graph(1000,4)"
     ],
     "language": "python",
     "metadata": {},
     "outputs": [],
     "prompt_number": 10
    },
    {
     "cell_type": "code",
     "collapsed": false,
     "input": [
      "exact_b = exact_betweenness(g)\n",
      "approx_b = approx_betweenness(g)"
     ],
     "language": "python",
     "metadata": {},
     "outputs": [],
     "prompt_number": 11
    },
    {
     "cell_type": "code",
     "collapsed": false,
     "input": [
      "x = range(len(exact_b))\n",
      "y1 = sorted(exact_b.values(), reverse=True)\n",
      "y2 = sorted(approx_b.values(), reverse=True)"
     ],
     "language": "python",
     "metadata": {},
     "outputs": [],
     "prompt_number": 12
    },
    {
     "cell_type": "code",
     "collapsed": false,
     "input": [
      "plt.plot(x,y1,label=\"Exact\")\n",
      "plt.plot(x,y2,'--',label=\"Approximate\")\n",
      "plt.yscale('log')\n",
      "plt.legend()\n",
      "plt.title(\"Comparison of exact and approximate betweenness centrality\")\n",
      "plt.xlabel(\"Centrality ranking\")\n",
      "p=plt.ylabel(\"Centrality value\")"
     ],
     "language": "python",
     "metadata": {},
     "outputs": [
      {
       "metadata": {},
       "output_type": "display_data",
       "png": "[encoded data removed]",
       "text": [
        "<matplotlib.figure.Figure at 0x117c73050>"
       ]
      }
     ],
     "prompt_number": 14
    },
    {
     "cell_type": "code",
     "collapsed": false,
     "input": [],
     "language": "python",
     "metadata": {},
     "outputs": []
    }
   ],
   "metadata": {}
  }
 ]
}