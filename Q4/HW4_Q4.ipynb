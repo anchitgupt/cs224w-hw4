{
 "metadata": {
  "name": ""
 },
 "nbformat": 3,
 "nbformat_minor": 0,
 "worksheets": [
  {
   "cells": [
    {
     "cell_type": "heading",
     "level": 1,
     "metadata": {},
     "source": [
      "Homework 4, Question 4"
     ]
    },
    {
     "cell_type": "code",
     "collapsed": false,
     "input": [
      "import networkx as nx\n",
      "from ggplot import *\n",
      "from collections import *\n",
      "from itertools import combinations"
     ],
     "language": "python",
     "metadata": {},
     "outputs": [],
     "prompt_number": 1
    },
    {
     "cell_type": "heading",
     "level": 2,
     "metadata": {},
     "source": [
      "Helper functions"
     ]
    },
    {
     "cell_type": "code",
     "collapsed": false,
     "input": [
      "EMPTY_SET=set()"
     ],
     "language": "python",
     "metadata": {},
     "outputs": [],
     "prompt_number": 2
    },
    {
     "cell_type": "heading",
     "level": 4,
     "metadata": {},
     "source": [
      "Helper function to find k-core, given an anchor set (default empty)"
     ]
    },
    {
     "cell_type": "code",
     "collapsed": false,
     "input": [
      "def FindKCore(graph,k=2,anchor=EMPTY_SET):\n",
      "    G = graph.copy()\n",
      "    Q = deque()\n",
      "    \n",
      "    # place nodes with degree < k on the queue\n",
      "    for n in G.nodes_iter():\n",
      "        if n not in anchor and nx.degree(G,n) < k:\n",
      "            Q.append(n)\n",
      "    \n",
      "    # Now iterate until queue is empty\n",
      "    while len(Q) > 0:\n",
      "        n = Q.popleft()\n",
      "        if G.has_node(n) and n not in anchor and nx.degree(G,n) < k: # for nodes with deg < k\n",
      "            for nbr in nx.all_neighbors(G,n):\n",
      "                Q.append(nbr)  # place neighbors on queue\n",
      "            G.remove_node(n)   # delete node\n",
      "    return G"
     ],
     "language": "python",
     "metadata": {},
     "outputs": [],
     "prompt_number": 3
    },
    {
     "cell_type": "heading",
     "level": 2,
     "metadata": {},
     "source": [
      "HighestDegree algorithm"
     ]
    },
    {
     "cell_type": "code",
     "collapsed": false,
     "input": [
      "def HighestDegree(graph,b,debug=False):\n",
      "    G = graph.copy()\n",
      "    degs = G.degree()   \n",
      "    h_nodes = sorted(degs, key=degs.get,reverse=True)  # sort nodes by descending degree    \n",
      "    saved_size = OrderedDict()\n",
      "    saved_size[0] = FindKCore(graph).number_of_nodes()\n",
      "    A = set()\n",
      "    cnt = 0\n",
      "    for h in h_nodes[:b]:\n",
      "        cnt += 1\n",
      "        A.add(h)\n",
      "        saved_size[cnt] = FindKCore(graph,anchor=A).number_of_nodes()\n",
      "    return saved_size"
     ],
     "language": "python",
     "metadata": {},
     "outputs": [],
     "prompt_number": 4
    },
    {
     "cell_type": "heading",
     "level": 2,
     "metadata": {},
     "source": [
      "TwoStepGreedy Algorithm"
     ]
    },
    {
     "cell_type": "heading",
     "level": 4,
     "metadata": {},
     "source": [
      "Partition graph into $R$ and $S$"
     ]
    },
    {
     "cell_type": "markdown",
     "metadata": {},
     "source": [
      "In order to partition the graph, we:\n",
      "\n",
      "- Find the connected components of the graph\n",
      "- A component containing a k-core (plus saved) node is added to R\n",
      "- Remaining components are added to S\n",
      "\n",
      "Also we find a set of candidate anchor nodes, i.e. nodes with degree less than k. For k=2, these are basically leaves of the trees in R and S."
     ]
    },
    {
     "cell_type": "code",
     "collapsed": false,
     "input": [
      "def PartitionGraph(graph,kc_nodes,anchor=EMPTY_SET,k=2):\n",
      "    G = graph.copy()\n",
      "    R_cand = set()\n",
      "    S_cand = set()\n",
      "    \n",
      "    G_ccs = nx.connected_component_subgraphs(G)\n",
      "    \n",
      "    for g_cc in G_ccs:\n",
      "        cc_nodes = set(g_cc.nodes())\n",
      "        kc_overlap = cc_nodes.intersection(kc_nodes)\n",
      "        if len(kc_overlap) > 0:\n",
      "            root = kc_overlap.pop()\n",
      "            R_nodes = set()\n",
      "            for n in cc_nodes:\n",
      "                d = nx.degree(G,n) \n",
      "                if n not in anchor and n not in kc_nodes and d > 0 and d < k:\n",
      "                    R_nodes.add(n)\n",
      "                R_cand = R_cand.union(set((u,root) for u in R_nodes))                \n",
      "        else:\n",
      "            S_nodes = set()\n",
      "            for n in cc_nodes:\n",
      "                d = nx.degree(G,n) \n",
      "                if n not in anchor and d > 0 and d < k:\n",
      "                    S_nodes.add(n)\n",
      "            S_cand = S_cand.union(set((u,v) for u,v in combinations(S_nodes,2)))    \n",
      "\n",
      "    return R_cand,S_cand"
     ],
     "language": "python",
     "metadata": {},
     "outputs": [],
     "prompt_number": 5
    },
    {
     "cell_type": "heading",
     "level": 4,
     "metadata": {},
     "source": [
      "Helper function $RemoveCore(G,A)$"
     ]
    },
    {
     "cell_type": "code",
     "collapsed": false,
     "input": [
      "def RemoveCore(graph,k=2,anchor=EMPTY_SET):\n",
      "    G = graph.copy()\n",
      "    Gn = FindKCore(G,k,anchor)\n",
      "    for u,v in Gn.edges_iter():\n",
      "        if u != v:\n",
      "            G.remove_edge(u,v)\n",
      "\n",
      "    KC_nodes = set(filter(lambda n: nx.degree(G,n) > 0,Gn.nodes()))\n",
      "\n",
      "    G_small = G.copy()\n",
      "    for n in G.nodes_iter():\n",
      "        if nx.degree(G,n) == 0:\n",
      "            G_small.remove_node(n)\n",
      "            \n",
      "    return G, G_small,KC_nodes"
     ],
     "language": "python",
     "metadata": {},
     "outputs": [],
     "prompt_number": 6
    },
    {
     "cell_type": "markdown",
     "metadata": {},
     "source": [
      "Find the best new potential anchor from sets $R$ or $S$. If $n=1$, then use $R$, else use $S$. The function also takes the list of current saved nodes.\n",
      "\n",
      "As suggested in the assignment, there are two cases in $R$, where $v_2$ belongs to the same tree as $v_1$ or otherwise. I have taken care of both cases as follows: Starting from a potential anchor, trace the path towards to root till we hit a k-core or saved node. That is the maximum number of nodes that can be saved by this new anchor. Use that number to find the best anchor. This works for both $v_1$ and $v_2$."
     ]
    },
    {
     "cell_type": "code",
     "collapsed": false,
     "input": [
      "def FindBestAnchor(graph,C,paths,kc_nodes,n=1,anchor=EMPTY_SET):\n",
      "    G = graph.copy()\n",
      "    max_saved = 0\n",
      "    best_anchor = anchor\n",
      "    if n == 1:\n",
      "        best_root = None\n",
      "        for a,root in C:\n",
      "            saved = 0\n",
      "            for n in paths[a][root]:\n",
      "                if n in kc_nodes or n in anchor: break\n",
      "                saved += 1\n",
      "            \n",
      "            if saved > max_saved:\n",
      "                max_saved = saved\n",
      "                best_anchor = set((a,))\n",
      "                kc_nodes = kc_nodes.union(set(paths[a][root]))        \n",
      "    if n == 2:\n",
      "        for c1,c2 in C:\n",
      "            saved = len(paths[c1][c2]) # Find two leaves furthest from each other in S\n",
      "            if saved > max_saved:\n",
      "                max_saved = saved\n",
      "                best_anchor = set([c1,c2])   \n",
      "                kc_nodes = kc_nodes.union(set(paths[c1][c2]))\n",
      "\n",
      "    return max_saved,best_anchor,kc_nodes"
     ],
     "language": "python",
     "metadata": {},
     "outputs": [],
     "prompt_number": 7
    },
    {
     "cell_type": "markdown",
     "metadata": {},
     "source": [
      "In order to find optimal anchors quickly, we pre-calculate all pairs of shortest paths between nodes in the graph with K-Core removed. This automatically gives us all paths between nodes in the sets $R$ and $S$."
     ]
    },
    {
     "cell_type": "code",
     "collapsed": false,
     "input": [
      "def TwoStepGreedy(graph,b,debug=True):\n",
      "    G = graph.copy()    \n",
      "    A = set()\n",
      "    Gp,_,_ = RemoveCore(G)\n",
      "    paths = nx.all_pairs_shortest_path(Gp)\n",
      "    cnt = 0\n",
      "    saved_size = OrderedDict()\n",
      "    saved_size[0] = FindKCore(G).number_of_nodes()\n",
      "\n",
      "    while b > 0:\n",
      "        Gp,Gs,kc_nodes = RemoveCore(G,anchor=A)\n",
      "        R_cand,S_cand = PartitionGraph(Gs,kc_nodes,anchor=A)\n",
      "        if debug: print list(R_cand),list(S_cand),\n",
      "        if len(R_cand) == 0 and len(S_cand) ==0:\n",
      "            break\n",
      "            \n",
      "        # Find optimal 1st and 2nd anchors from R i.e. v1 and v2\n",
      "        N1,A1,kc_nodes_R = FindBestAnchor(G,R_cand,paths,kc_nodes)\n",
      "        R_cand = R_cand.difference(A1)\n",
      "        N2,A2,kc_nodes_R = FindBestAnchor(G,R_cand,paths,kc_nodes_R,anchor=A1)\n",
      "\n",
      "        N2 = max(N1,N2)\n",
      "        \n",
      "        # Find optimal pair from S i.e. (v3,v4)\n",
      "        N3,A3,kc_nodes_S = FindBestAnchor(G,S_cand,paths,kc_nodes,n=2)\n",
      "        S_cand = S_cand.difference(A3)\n",
      "  \n",
      "        if b==1 or N2 > N3:\n",
      "            A = A.union(A1)\n",
      "            b -= 1\n",
      "            cnt += 1\n",
      "        else:\n",
      "            saved_size[cnt+1] = FindKCore(graph,anchor=A.union(A1)).number_of_nodes()\n",
      "            A = A.union(A3)\n",
      "            b -= 2\n",
      "            cnt += 2\n",
      "        saved_size[cnt] = FindKCore(graph,anchor=A).number_of_nodes()\n",
      "\n",
      "    if debug: print \"Final anchors:\",list(A)\n",
      "    return saved_size"
     ],
     "language": "python",
     "metadata": {},
     "outputs": [],
     "prompt_number": 8
    },
    {
     "cell_type": "heading",
     "level": 2,
     "metadata": {},
     "source": [
      "Plots for G1 and G2"
     ]
    },
    {
     "cell_type": "code",
     "collapsed": false,
     "input": [
      "G1 = nx.read_edgelist(\"g1.txt\")\n",
      "G2 = nx.read_edgelist(\"g2.txt\")"
     ],
     "language": "python",
     "metadata": {},
     "outputs": [],
     "prompt_number": 9
    },
    {
     "cell_type": "code",
     "collapsed": false,
     "input": [
      "def KCoreAlgorithm(graph,algorithm):\n",
      "    N=11\n",
      "    X = arange(N)\n",
      "    Y=ones(N)\n",
      "    saved_size = algorithm(graph,N-1,debug=False)\n",
      "    xt,yt = zip(*saved_size.items())\n",
      "    Y[list(xt)]=yt\n",
      "    return X,Y"
     ],
     "language": "python",
     "metadata": {},
     "outputs": [],
     "prompt_number": 10
    },
    {
     "cell_type": "code",
     "collapsed": false,
     "input": [
      "xh1,yh1 = KCoreAlgorithm(G1,HighestDegree)"
     ],
     "language": "python",
     "metadata": {},
     "outputs": [],
     "prompt_number": 11
    },
    {
     "cell_type": "code",
     "collapsed": false,
     "input": [
      "xg1,yg1 = KCoreAlgorithm(G1,TwoStepGreedy)"
     ],
     "language": "python",
     "metadata": {},
     "outputs": [],
     "prompt_number": 12
    },
    {
     "cell_type": "code",
     "collapsed": false,
     "input": [
      "plt.plot(xh1,yh1,label=\"HighestDegree\")\n",
      "plt.plot(xg1,yg1,label=\"TwoStepGreedy\")\n",
      "plt.xlabel(\"b\")\n",
      "plt.ylabel(\"r\")\n",
      "plt.legend(loc=\"best\")\n",
      "p=plt.title(\"Q4.7) G1: r vs. b\")"
     ],
     "language": "python",
     "metadata": {},
     "outputs": [
      {
       "metadata": {},
       "output_type": "display_data",
       "png": "[encoded data removed]",
       "text": [
        "<matplotlib.figure.Figure at 0x1173c2fd0>"
       ]
      }
     ],
     "prompt_number": 17
    },
    {
     "cell_type": "code",
     "collapsed": false,
     "input": [
      "xh2,yh2 = KCoreAlgorithm(G2,HighestDegree)"
     ],
     "language": "python",
     "metadata": {},
     "outputs": [],
     "prompt_number": 14
    },
    {
     "cell_type": "code",
     "collapsed": false,
     "input": [
      "xg2,yg2 = KCoreAlgorithm(G2,TwoStepGreedy)"
     ],
     "language": "python",
     "metadata": {},
     "outputs": [],
     "prompt_number": 15
    },
    {
     "cell_type": "code",
     "collapsed": false,
     "input": [
      "plt.plot(xh2,yh2,label=\"HighestDegree\")\n",
      "plt.plot(xg2,yg2,label=\"TwoStepGreedy\")\n",
      "plt.xlabel(\"b\")\n",
      "plt.ylabel(\"r\")\n",
      "plt.legend(loc=\"best\")\n",
      "p=plt.title(\"Q4.7) G2: r vs. b\")"
     ],
     "language": "python",
     "metadata": {},
     "outputs": [
      {
       "metadata": {},
       "output_type": "display_data",
       "png": "[encoded data removed]",
       "text": [
        "<matplotlib.figure.Figure at 0x110ef3050>"
       ]
      }
     ],
     "prompt_number": 16
    },
    {
     "cell_type": "code",
     "collapsed": false,
     "input": [],
     "language": "python",
     "metadata": {},
     "outputs": [],
     "prompt_number": 16
    }
   ],
   "metadata": {}
  }
 ]
}