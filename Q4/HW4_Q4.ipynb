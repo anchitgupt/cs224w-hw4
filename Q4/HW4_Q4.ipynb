{
 "metadata": {
  "name": ""
 },
 "nbformat": 3,
 "nbformat_minor": 0,
 "worksheets": [
  {
   "cells": [
    {
     "cell_type": "code",
     "collapsed": false,
     "input": [
      "import networkx as nx\n",
      "from ggplot import *\n",
      "from collections import *\n",
      "from itertools import combinations"
     ],
     "language": "python",
     "metadata": {},
     "outputs": [],
     "prompt_number": 1
    },
    {
     "cell_type": "heading",
     "level": 2,
     "metadata": {},
     "source": [
      "Helper functions"
     ]
    },
    {
     "cell_type": "code",
     "collapsed": false,
     "input": [
      "EMPTY_SET=set()"
     ],
     "language": "python",
     "metadata": {},
     "outputs": [],
     "prompt_number": 2
    },
    {
     "cell_type": "heading",
     "level": 4,
     "metadata": {},
     "source": [
      "Helper function to find k-core, given an anchor set (default empty)"
     ]
    },
    {
     "cell_type": "code",
     "collapsed": false,
     "input": [
      "def FindKCore(graph,k=2,anchor=EMPTY_SET):\n",
      "    G = graph.copy()\n",
      "    Q = deque()\n",
      "    \n",
      "    # place nodes with degree < k on the queue\n",
      "    for n in G.nodes_iter():\n",
      "        if n not in anchor and nx.degree(G,n) < k:\n",
      "            Q.append(n)\n",
      "    \n",
      "    # Now iterate until queue is empty\n",
      "    while len(Q) > 0:\n",
      "        n = Q.popleft()\n",
      "        if G.has_node(n) and n not in anchor and nx.degree(G,n) < k: # for nodes with deg < k\n",
      "            for nbr in nx.all_neighbors(G,n):\n",
      "                Q.append(nbr)  # place neighbors on queue\n",
      "            G.remove_node(n)   # delete node\n",
      "    return G"
     ],
     "language": "python",
     "metadata": {},
     "outputs": [],
     "prompt_number": 3
    },
    {
     "cell_type": "heading",
     "level": 2,
     "metadata": {},
     "source": [
      "HighestDegree algorithm"
     ]
    },
    {
     "cell_type": "code",
     "collapsed": false,
     "input": [
      "def HighestDegree(graph,b,debug=False):\n",
      "    G = graph.copy()\n",
      "    degs = G.degree()   \n",
      "    h_nodes = sorted(degs, key=degs.get,reverse=True)  # sort nodes by descending degree    \n",
      "    \n",
      "    saved_size = OrderedDict()\n",
      "    saved_size[0] = FindKCore(graph).number_of_nodes()\n",
      "    A = set()\n",
      "    cnt = 0\n",
      "    for h in h_nodes[:b]:\n",
      "        cnt += 1\n",
      "        A.add(h)\n",
      "        saved_size[cnt] = FindKCore(graph,anchor=A).number_of_nodes()\n",
      "    return saved_size"
     ],
     "language": "python",
     "metadata": {},
     "outputs": [],
     "prompt_number": 46
    },
    {
     "cell_type": "code",
     "collapsed": false,
     "input": [
      "HighestDegree(G1,50)"
     ],
     "language": "python",
     "metadata": {},
     "outputs": [
      {
       "metadata": {},
       "output_type": "pyout",
       "prompt_number": 47,
       "text": [
        "OrderedDict([(0, 0), (1, 1), (2, 41), (3, 121), (4, 121), (5, 121), (6, 121), (7, 121), (8, 141), (9, 195), (10, 214), (11, 217), (12, 362), (13, 364), (14, 365), (15, 365), (16, 365), (17, 365), (18, 365), (19, 451), (20, 452), (21, 453), (22, 454), (23, 455), (24, 456), (25, 459), (26, 460), (27, 540), (28, 540), (29, 540), (30, 540), (31, 540), (32, 540), (33, 540), (34, 540), (35, 540), (36, 540), (37, 626), (38, 626), (39, 639), (40, 641), (41, 756), (42, 756), (43, 756), (44, 756), (45, 756), (46, 756), (47, 756), (48, 756), (49, 756), (50, 756)])"
       ]
      }
     ],
     "prompt_number": 47
    },
    {
     "cell_type": "heading",
     "level": 2,
     "metadata": {},
     "source": [
      "TwoStepGreedy Algorithm"
     ]
    },
    {
     "cell_type": "heading",
     "level": 4,
     "metadata": {},
     "source": [
      "Partition graph into $R$ and $S$"
     ]
    },
    {
     "cell_type": "code",
     "collapsed": false,
     "input": [
      "def PartitionGraph(graph,kc_nodes,anchor=EMPTY_SET,k=2):\n",
      "    G = graph.copy()\n",
      "    R_cand = set()\n",
      "    S_cand = set()\n",
      "    \n",
      "    G_ccs = nx.connected_component_subgraphs(G)\n",
      "    \n",
      "    for g_cc in G_ccs:\n",
      "        cc_nodes = set(g_cc.nodes())\n",
      "        kc_overlap = cc_nodes.intersection(kc_nodes)\n",
      "        if len(kc_overlap) > 0:\n",
      "            root = kc_overlap.pop()\n",
      "            R_nodes = set()\n",
      "            for n in cc_nodes:\n",
      "                d = nx.degree(G,n) \n",
      "                if n not in anchor and n not in kc_nodes and d > 0 and d < k:\n",
      "                    R_nodes.add(n)\n",
      "                R_cand = R_cand.union(set((u,root) for u in R_nodes))                \n",
      "        else:\n",
      "            S_nodes = set()\n",
      "            for n in cc_nodes:\n",
      "                d = nx.degree(G,n) \n",
      "                if n not in anchor and d > 0 and d < k:\n",
      "                    S_nodes.add(n)\n",
      "            S_cand = S_cand.union(set((u,v) for u,v in combinations(S_nodes,2)))    \n",
      "\n",
      "    return R_cand,S_cand"
     ],
     "language": "python",
     "metadata": {},
     "outputs": [],
     "prompt_number": 5
    },
    {
     "cell_type": "heading",
     "level": 4,
     "metadata": {},
     "source": [
      "Helper function $RemoveCore(G,A)$"
     ]
    },
    {
     "cell_type": "code",
     "collapsed": false,
     "input": [
      "def RemoveCore(graph,k=2,anchor=EMPTY_SET):\n",
      "    G = graph.copy()\n",
      "    Gn = FindKCore(G,k,anchor)\n",
      "    for u,v in Gn.edges_iter():\n",
      "        if u != v:\n",
      "            G.remove_edge(u,v)\n",
      "\n",
      "    KC_nodes = set(filter(lambda n: nx.degree(G,n) > 0,Gn.nodes()))\n",
      "\n",
      "    G_small = G.copy()\n",
      "    for n in G.nodes_iter():\n",
      "        if nx.degree(G,n) == 0:\n",
      "            G_small.remove_node(n)\n",
      "            \n",
      "    return G, G_small,KC_nodes"
     ],
     "language": "python",
     "metadata": {},
     "outputs": [],
     "prompt_number": 6
    },
    {
     "cell_type": "code",
     "collapsed": false,
     "input": [
      "def FindBestAnchor(graph,C,paths,n=1,anchor=EMPTY_SET):\n",
      "    G = graph.copy()\n",
      "    max_saved = 0\n",
      "    best_anchor = anchor\n",
      "    if n == 1:\n",
      "        for a,root in C:\n",
      "            saved = paths[a][root] # Find the furthest distance from root in R\n",
      "            if saved > max_saved:\n",
      "                max_saved = saved\n",
      "                best_anchor = set((a,))\n",
      "    if n == 2:\n",
      "        for c1,c2 in C:\n",
      "            saved = paths[c1][c2] # Find two leaves furthest from each other in S\n",
      "            if saved > max_saved:\n",
      "                max_saved = saved\n",
      "                best_anchor = set([c1,c2])      \n",
      "    return max_saved,best_anchor"
     ],
     "language": "python",
     "metadata": {},
     "outputs": [],
     "prompt_number": 7
    },
    {
     "cell_type": "code",
     "collapsed": false,
     "input": [
      "def TwoStepGreedy(graph,b,debug=True):\n",
      "    G = graph.copy()    \n",
      "    A = set()\n",
      "    paths = nx.all_pairs_shortest_path_length(G)\n",
      "    cnt = 0\n",
      "    saved_size = OrderedDict()\n",
      "    saved_size[0] = FindKCore(G).number_of_nodes()\n",
      "\n",
      "    while b > 0:\n",
      "        Gp,Gs,kc_nodes = RemoveCore(G,anchor=A)\n",
      "        R_cand,S_cand = PartitionGraph(Gs,kc_nodes,anchor=A)\n",
      "        if debug: print list(R_cand),list(S_cand),\n",
      "        if len(R_cand) == 0 and len(S_cand) ==0:\n",
      "            break\n",
      "            \n",
      "        # Find optimal 1st and 2nd anchors from R\n",
      "        N1,A1 = FindBestAnchor(G,R_cand,paths)\n",
      "        R_cand = R_cand.difference(A1)\n",
      "        N2,A2 = FindBestAnchor(G,R_cand,paths,anchor=A1)\n",
      "\n",
      "        N2 = max(N1,N2)\n",
      "        \n",
      "        # Find optimal pair from S\n",
      "        N3,A3 = FindBestAnchor(G,S_cand,paths,n=2)\n",
      "        S_cand = S_cand.difference(A3)\n",
      "  \n",
      "        if b==1 or N2 > N3:\n",
      "            A = A.union(A1)\n",
      "            b -= 1\n",
      "            cnt += 1\n",
      "        else:\n",
      "            saved_size[cnt+1] = FindKCore(graph,anchor=A.union(A1)).number_of_nodes()\n",
      "            A = A.union(A3)\n",
      "            b -= 2\n",
      "            cnt += 2\n",
      "        saved_size[cnt] = FindKCore(graph,anchor=A).number_of_nodes()\n",
      "\n",
      "    if debug: print \"Final anchors:\",list(A),len(saved)\n",
      "    return saved_size"
     ],
     "language": "python",
     "metadata": {},
     "outputs": [],
     "prompt_number": 48
    },
    {
     "cell_type": "code",
     "collapsed": false,
     "input": [
      "toy3 = nx.read_edgelist(\"toy3.txt\")"
     ],
     "language": "python",
     "metadata": {},
     "outputs": [],
     "prompt_number": 49
    },
    {
     "cell_type": "code",
     "collapsed": false,
     "input": [
      "TwoStepGreedy(toy3,10)"
     ],
     "language": "python",
     "metadata": {},
     "outputs": [
      {
       "output_type": "stream",
       "stream": "stdout",
       "text": [
        "[(u'6', u'1'), (u'11', u'4'), (u'14', u'4'), (u'5', u'1')] [] [(u'14', u'7'), (u'6', u'1'), (u'5', u'1')] [] [(u'6', u'1'), (u'5', u'1')] [] [(u'5', u'0')] [] [] [] Final anchors: [u'11', u'5', u'14', u'6'] 1100\n"
       ]
      },
      {
       "metadata": {},
       "output_type": "pyout",
       "prompt_number": 50,
       "text": [
        "OrderedDict([(0, 4), (1, 9), (2, 12), (3, 14), (4, 15)])"
       ]
      }
     ],
     "prompt_number": 50
    },
    {
     "cell_type": "heading",
     "level": 2,
     "metadata": {},
     "source": [
      "Plots for G1 and G2"
     ]
    },
    {
     "cell_type": "code",
     "collapsed": false,
     "input": [
      "G1 = nx.read_edgelist(\"g1.txt\")\n",
      "G2 = nx.read_edgelist(\"g2.txt\")"
     ],
     "language": "python",
     "metadata": {},
     "outputs": [],
     "prompt_number": 11
    },
    {
     "cell_type": "code",
     "collapsed": false,
     "input": [
      "def KCoreAlgorithm(graph,algorithm):\n",
      "    N=graph.number_of_nodes()\n",
      "    X = arange(N)\n",
      "    Y=ones(N)*N\n",
      "    saved_size = algorithm(graph,N-1,debug=False)\n",
      "    xt,yt = zip(*saved_size.items())\n",
      "    Y[list(xt)]=yt\n",
      "    return X,Y"
     ],
     "language": "python",
     "metadata": {},
     "outputs": [],
     "prompt_number": 81
    },
    {
     "cell_type": "code",
     "collapsed": false,
     "input": [
      "xh1,yh1 = KCoreAlgorithm(G1,HighestDegree)"
     ],
     "language": "python",
     "metadata": {},
     "outputs": [],
     "prompt_number": 82
    },
    {
     "cell_type": "code",
     "collapsed": false,
     "input": [
      "xg1,yg1 = KCoreAlgorithm(G1,TwoStepGreedy)"
     ],
     "language": "python",
     "metadata": {},
     "outputs": [],
     "prompt_number": 83
    },
    {
     "cell_type": "code",
     "collapsed": false,
     "input": [
      "plt.plot(xh1,yh1,label=\"HighestDegree\")\n",
      "plt.plot(xg1,yg1,label=\"TwoStepGreedy\")\n",
      "plt.xlabel(\"b\")\n",
      "plt.ylabel(\"r\")\n",
      "plt.legend(loc=\"best\")\n",
      "p=plt.title(\"Q4.7) G1: r vs. b\")"
     ],
     "language": "python",
     "metadata": {},
     "outputs": [
      {
       "metadata": {},
       "output_type": "display_data",
       "png": "[encoded data removed]",
       "text": [
        "<matplotlib.figure.Figure at 0x114edfb50>"
       ]
      }
     ],
     "prompt_number": 84
    },
    {
     "cell_type": "code",
     "collapsed": false,
     "input": [
      "xh2,yh2 = KCoreAlgorithm(G2,HighestDegree)"
     ],
     "language": "python",
     "metadata": {},
     "outputs": [],
     "prompt_number": 85
    },
    {
     "cell_type": "code",
     "collapsed": false,
     "input": [
      "xg2,yg2 = KCoreAlgorithm(G2,TwoStepGreedy)"
     ],
     "language": "python",
     "metadata": {},
     "outputs": [],
     "prompt_number": 86
    },
    {
     "cell_type": "code",
     "collapsed": false,
     "input": [
      "plt.plot(xh2,yh2,label=\"HighestDegree\")\n",
      "plt.plot(xg2,yg2,label=\"TwoStepGreedy\")\n",
      "plt.xlabel(\"b\")\n",
      "plt.ylabel(\"r\")\n",
      "plt.legend(loc=\"best\")\n",
      "p=plt.title(\"Q4.7) G2: r vs. b\")"
     ],
     "language": "python",
     "metadata": {},
     "outputs": [
      {
       "metadata": {},
       "output_type": "display_data",
       "png": "[encoded data removed]",
       "text": [
        "<matplotlib.figure.Figure at 0x114fb6150>"
       ]
      }
     ],
     "prompt_number": 87
    },
    {
     "cell_type": "code",
     "collapsed": false,
     "input": [],
     "language": "python",
     "metadata": {},
     "outputs": []
    }
   ],
   "metadata": {}
  }
 ]
}